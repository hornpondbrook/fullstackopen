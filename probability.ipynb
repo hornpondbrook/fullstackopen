{
  "nbformat": 4,
  "nbformat_minor": 0,
  "metadata": {
    "colab": {
      "provenance": [],
      "authorship_tag": "ABX9TyM2iRPpu+V72P6hsFc+VMkT",
      "include_colab_link": true
    },
    "kernelspec": {
      "name": "python3",
      "display_name": "Python 3"
    },
    "language_info": {
      "name": "python"
    }
  },
  "cells": [
    {
      "cell_type": "markdown",
      "metadata": {
        "id": "view-in-github",
        "colab_type": "text"
      },
      "source": [
        "<a href=\"https://colab.research.google.com/github/hornpondbrook/fullstackopen/blob/main/probability.ipynb\" target=\"_parent\"><img src=\"https://colab.research.google.com/assets/colab-badge.svg\" alt=\"Open In Colab\"/></a>"
      ]
    },
    {
      "cell_type": "code",
      "execution_count": 1,
      "metadata": {
        "id": "El5gly69HQO3"
      },
      "outputs": [],
      "source": [
        "# prompt: show me often used shortcuts for colab notebooks\n",
        "\n",
        "# Cell shortcuts\n",
        "# Shift + Enter: Run the current cell and move to the next one.\n",
        "# Ctrl + Enter: Run the current cell and insert a new one below.\n",
        "# Alt + Enter: Run the current cell and insert a new one above.\n",
        "# Ctrl + M + B: Create a new code cell.\n",
        "# Ctrl + M + M: Create a new markdown cell.\n",
        "# Ctrl + M + Y: Delete the current cell.\n",
        "# Ctrl + Shift + - : Split the current cell into two.\n",
        "# Ctrl + /: Comment out the selected lines.\n",
        "# Ctrl + D: Delete the selected lines.\n",
        "# Ctrl + Shift + J: Join the selected cells.\n",
        "\n",
        "# Navigation shortcuts\n",
        "# Up/Down arrow keys: Move the cursor up and down the notebook.\n",
        "# Left/Right arrow keys: Move the cursor left and right in the current cell.\n",
        "# Ctrl + Home: Move the cursor to the beginning of the notebook.\n",
        "# Ctrl + End: Move the cursor to the end of the notebook.\n",
        "# Ctrl + A: Select all cells in the notebook.\n",
        "# Ctrl + Z: Undo the last action.\n",
        "# Ctrl + Y: Redo the last action.\n",
        "\n",
        "# Editing shortcuts\n",
        "# Ctrl + X: Cut the selected text.\n",
        "# Ctrl + C: Copy the selected text.\n",
        "# Ctrl + V: Paste the selected text.\n",
        "# Ctrl + F: Find text in the notebook.\n",
        "# Ctrl + H: Replace text in the notebook.\n",
        "\n",
        "# Output shortcuts\n",
        "# Ctrl + Shift + O: Toggle the visibility of the output of the current cell.\n",
        "# Ctrl + Shift + P: Clear the output of the current cell.\n",
        "\n",
        "# Help shortcuts\n",
        "# F1: Open the help dialog.\n",
        "# Shift + F1: Open the keyboard shortcuts dialog.\n",
        "\n",
        "\n"
      ]
    },
    {
      "cell_type": "markdown",
      "source": [
        "# TOC\n",
        "\n",
        "## [jupyter/colab notebook help](#help)\n",
        "## [Learn probability from mit](#mit-probability)\n",
        "* [Lecture 1: Probability Models and Axioms](#mit-prob-lecture-1)\n",
        "* [Lecture 5: Discrete Random Variables I: Probability Mass Functions; Expectations](#mit-prob-lecture-5)\n"
      ],
      "metadata": {
        "id": "tKyQ9lnH2y6f"
      }
    },
    {
      "cell_type": "markdown",
      "source": [
        "<a name=\"help\"></a>\n",
        "# jupyter colab notebook help\n",
        "\n",
        "## shotcuts\n",
        "\n",
        "## math\n",
        "* [LATEX Math for Undergrads](\n",
        "  https://tug.ctan.org/info/undergradmath/undergradmath.pdf) pdf for print\n",
        "* [A quick guide to LATEX](\n",
        "  https://users.dickinson.edu/~richesod/latex/latexcheatsheet.pdf) pdf for print\n",
        "* [LaTeX Math Symbols](\n",
        "  https://kapeli.com/cheat_sheets/LaTeX_Math_Symbols.docset/Contents/Resources/Documents/index)\n",
        "* [Learn LaTeX in 30 minutes](\n",
        "  https://www.overleaf.com/learn/latex/Learn_LaTeX_in_30_minutes)\n",
        "* [The not so Short Introduction to LaTeX](\n",
        "  https://tobi.oetiker.ch/lshort/lshort.pdf)\n",
        "\n",
        "## graph\n",
        "### draw graph with mouse\n",
        "* https://stackoverflow.com/questions/75394066/what-are-my-options-for-rendering-diagrams-in-a-jupyter-notebook\n",
        "* https://holoviews.org/reference/streams/bokeh/FreehandDraw.html\n",
        "* https://www.reddit.com/r/Python/comments/k1ym4c/ipycanvas_draw_anything_you_want_in_a_jupyter/\n",
        "* https://github.com/uclnlp/egal\n",
        "* https://stackoverflow.com/questions/55575685/jupyter-notebook-let-a-user-inputs-a-drawing\n",
        "* https://github.com/nicknytko/notebook-drawing\n",
        "* https://gist.github.com/korakot/8409b3feec20f159d8a50b0a811d3bca\n",
        "* https://stackoverflow.com/questions/56494595/any-way-to-let-a-user-draw-an-image-in-google-colab-and-get-the-resulting-image\n",
        "* https://gist.github.com/rickkk856/6a2800cc84dd8fd456074e5a467edc47"
      ],
      "metadata": {
        "id": "Nna7qCsbRrd2"
      }
    },
    {
      "cell_type": "code",
      "source": [
        "# prompt: import needed libs for data analysis in colab notebook\n",
        "\n",
        "# Import the necessary libraries for data analysis in Colab notebook.\n",
        "import pandas as pd\n",
        "import numpy as np\n",
        "import matplotlib.pyplot as plt\n",
        "import seaborn as sns\n"
      ],
      "metadata": {
        "id": "tyBFIyB7IbLp"
      },
      "execution_count": 2,
      "outputs": []
    },
    {
      "cell_type": "markdown",
      "source": [
        "<a name=\"mit-probability\"></a>\n",
        "# Learn probability from mit\n",
        "* [RES.6-012 | Spring 2018 | Undergraduate Introduction To Probability](\n",
        "  https://ocw.mit.edu/courses/res-6-012-introduction-to-probability-spring-2018/)\n",
        "* [6.041SC | Fall 2013 | Undergraduate Probabilistic Systems Analysis And Applied Probability](\n",
        "  https://ocw.mit.edu/courses/6-041sc-probabilistic-systems-analysis-and-applied-probability-fall-2013/)\n",
        "\n"
      ],
      "metadata": {
        "id": "WiAPPmbhIl4V"
      }
    },
    {
      "cell_type": "markdown",
      "source": [
        "<a name=\"mit-prob-lecture-1\"></a>\n",
        "## Lecture 1: Probability Models and Axioms\n",
        "\n",
        "The concept\n",
        "* we are doing an experiment with multiple (finite or infinite) possible outcomes, we call the set of all these outcomes **sample space** $\\Omega$, it is a set\n",
        "* usually we are interested in some specific subsets of the sample space set, we call a subset of sample space **event**\n",
        "* we are interested in the **posibility** of an event, so we are using a function $P()$ to assign a nonnegative value to an event $A$, satisfying these axioms\n",
        "  1. (Nonnegativity) $P(A) \\geq 0$ for every event $A$\n",
        "  1. (Additivity) if event $A$ and $B$ are disjoint events, then\n",
        "\n",
        "      $$ P(A \\cup B) = P(A) + P(B) $$\n",
        "\n",
        "      furthermore, if the sample space has an infinite number of elements and $A_1, A_2, \\cdots$ is a sequence of disjoint events, then the probability of their union satifying\n",
        "\n",
        "      $$ P(A_1 \\cup A_2 \\cup \\cdots) = P(A_1) + P(A_2) + \\cdots $$\n",
        "  1. (Normalization) the probability of the entire sample space $\\Omega$ is 1, that is,\n",
        "    \n",
        "     $$P(\\Omega) = 1$$\n",
        "* considering the fundation of probability is defined on **set**, so general set operations, venn graph, tree structure are all used extensively in probability\n"
      ],
      "metadata": {
        "id": "4tbGdQZvK-8t"
      }
    },
    {
      "cell_type": "markdown",
      "source": [
        "##  Lecture 2: Conditioning and Bayes’ Rule\n"
      ],
      "metadata": {
        "id": "cTpzyoqYK_J-"
      }
    },
    {
      "cell_type": "markdown",
      "source": [
        "## Lecture 3: Independence\n"
      ],
      "metadata": {
        "id": "O68sVcz6K_aG"
      }
    },
    {
      "cell_type": "markdown",
      "source": [
        "## Lecture 4: Counting"
      ],
      "metadata": {
        "id": "MDPHR6FEK_kO"
      }
    },
    {
      "cell_type": "markdown",
      "source": [
        "<a name=\"mit-prob-lecture-5\"></a>\n",
        "## Lecture 5: Discrete Random Variables I: Probability Mass Functions; Expectations\n",
        "\n",
        "What is **random variable**?\n",
        "* background\n",
        "  > for a probability experiment, we got a sample space with all the possible outcomes, to further investigate these outcomes, sometimes wr are interested in assigning numrical values to these outcomes\n",
        "* idea\n",
        "  > random variable is like a black box or a function that takes an experiment outcome and generate a numerical value (discrete or continous), like pick a student from a group and generate his weight\n",
        "* formal definition\n",
        "  > it is a function from sample space $\\Omega$ to the real numbers\n",
        "* notation\n",
        "  1. random variable $X$\n",
        "  1. numrical value $x$\n",
        "* we can have multiple random variables for a sample space\n",
        "* a fucntion of one or more random variables is also a random variable\n",
        "  1. $X + Y$\n",
        "\n",
        "A random variable is tightly connected with an probability experiment, actually assigning a numrical value to each outcome of the experiment, since there is a probability of each outcome, there is also a probability for each numeric value generated by the random variable, for discrete random variable, such probability is called **probability mass function (PMF)**.\n",
        "\n",
        "This function is a probability function, satisfying probability axioms, often it is called \"probability distribution\" of $X$\n",
        "\n",
        "For a random variable $X$, its PMF notation is\n",
        "* $p_X(x) = P(X = x) = P(\\{\\omega \\in \\Omega \\mid  X(\\omega) = x \\})$\n",
        "* so natually we have $p_X(x) \\geq 0$ and $\\sum_{x}p_X(x) = 1$\n",
        "\n",
        "\n"
      ],
      "metadata": {
        "id": "-JbILBKUK_w3"
      }
    },
    {
      "cell_type": "markdown",
      "source": [
        "## Lecture 6: Discrete Random Variable Examples; Joint PMFs\n",
        "\n"
      ],
      "metadata": {
        "id": "buzBIVBkKEPi"
      }
    }
  ]
}